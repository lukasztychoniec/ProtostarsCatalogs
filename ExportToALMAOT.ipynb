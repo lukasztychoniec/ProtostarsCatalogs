{
 "cells": [
  {
   "cell_type": "code",
   "execution_count": 16,
   "metadata": {},
   "outputs": [],
   "source": [
    "import astropy.io.fits as pf\n",
    "import numpy as np\n",
    "import matplotlib.pyplot as plt\n",
    "import matplotlib.patches as patches\n",
    "from astropy import constants as const\n",
    "from astropy import units as u\n",
    "#import tycholib_jupyter as tj\n",
    "#import imp\n",
    "#import nbimporter\n",
    "import sys, os, glob\n",
    "sys.path.append(os.path.abspath(os.path.join('..', 'Scripts_astro')))\n",
    "#import tycholib_jupyter as tj\n",
    "#imp.reload(tj)\n",
    "import math\n",
    "import json\n",
    "from astropy.io import ascii\n",
    "import matplotlib.gridspec as gridspec # For spacing subplots\n",
    "from astropy.wcs import WCS\n",
    "from astropy.wcs.utils import skycoord_to_pixel\n",
    "from astropy.coordinates import SkyCoord\n",
    "import math\n",
    "import time\n",
    "from astropy.visualization import (LogStretch, ImageNormalize, SqrtStretch)\n",
    "from astropy.io import ascii\n",
    "import pandas as pd\n",
    "from astropy.coordinates import Angle\n",
    "from collections import OrderedDict#"
   ]
  },
  {
   "cell_type": "code",
   "execution_count": 18,
   "metadata": {},
   "outputs": [],
   "source": [
    "def hasNumbers(inputString):\n",
    "    return any(char.isdigit() for char in inputString)\n",
    "\n",
    "plt.rc('font', family='Palatino',size=25)"
   ]
  },
  {
   "cell_type": "code",
   "execution_count": 19,
   "metadata": {},
   "outputs": [],
   "source": [
    "sources_tab = np.loadtxt('database/Ophiuchus_B7.txt',unpack=False,dtype='str',delimiter='\\t') \n",
    "output_name= 'Oph_B7.txt'"
   ]
  },
  {
   "cell_type": "code",
   "execution_count": 20,
   "metadata": {},
   "outputs": [],
   "source": [
    "col_names = ['name','ra_sex','dec_sex','vlsr']\n",
    "df_OT = pd.DataFrame(columns  = col_names)"
   ]
  },
  {
   "cell_type": "code",
   "execution_count": 21,
   "metadata": {},
   "outputs": [],
   "source": [
    "tab = oph_tab\n",
    "for i in range(len(tab)):\n",
    "    \n",
    "    #name\n",
    "    name = tab[i,1]\n",
    "    name = name.replace(\" \", \"\")\n",
    "    ra_sex = tab[i,4]\n",
    "    ra_sex = ra_sex.replace(\" \", \"\").replace('h',':').replace('m',':').replace('s','')\n",
    "    dec_sex = tab[i,5]\n",
    "    dec_sex = dec_sex.replace(\" \", \"\").replace('d',':').replace('m',':').replace('s','')\n",
    "    vlsr = 5.2\n",
    "\n",
    "    df_OT.loc[i] = [name,ra_sex,dec_sex,vlsr]"
   ]
  },
  {
   "cell_type": "code",
   "execution_count": 27,
   "metadata": {
    "scrolled": true
   },
   "outputs": [
    {
     "name": "stdout",
     "output_type": "stream",
     "text": [
      "      name       ra_sex      dec_sex  vlsr\n",
      "0   Oph_41  16:33:55.60  -24:42:05.0   5.2\n",
      "1   Oph_40  16:32:22.60  -24:28:31.0   5.2\n",
      "2   Oph_39  16:32:00.90  -24:56:42.0   5.2\n",
      "3   Oph_38  16:31:52.40  -24:55:36.0   5.2\n",
      "4   Oph_37  16:31:52.00  -24:57:26.0   5.2\n",
      "5   Oph_36  16:31:43.70  -24:55:24.0   5.2\n",
      "6   Oph_35  16:31:36.70  -24:04:19.0   5.2\n",
      "7   Oph_34  16:31:35.60  -24:01:29.0   5.2\n",
      "8   Oph_33  16:28:57.80  -24:40:54.0   5.2\n",
      "9   Oph_32  16:28:21.60  -24:36:23.0   5.2\n",
      "10  Oph_31  16:27:39.80  -24:43:15.0   5.2\n",
      "11  Oph_30  16:27:37.20  -24:42:37.0   5.2\n",
      "12  Oph_29  16:27:30.10  -24:27:43.0   5.2\n",
      "13  Oph_28  16:27:28.40  -24:27:21.0   5.2\n",
      "14  Oph_27  16:27:27.90  -24:39:33.0   5.2\n",
      "15  Oph_26  16:27:26.90  -24:40:50.0   5.2\n",
      "16  Oph_25  16:27:24.50  -24:41:03.0   5.2\n",
      "17  Oph_24  16:27:21.80  -24:27:27.0   5.2\n",
      "18  Oph_23  16:27:21.40  -24:41:43.0   5.2\n",
      "19  Oph_22  16:27:17.50  -24:28:56.0   5.2\n",
      "20  Oph_21  16:27:15.80  -24:38:43.0   5.2\n",
      "21  Oph_20  16:27:09.40  -24:37:18.0   5.2\n",
      "22  Oph_19  16:27:06.70  -24:38:14.0   5.2\n",
      "23  Oph_18  16:27:05.20  -24:36:29.0   5.2\n",
      "24  Oph_17  16:27:02.90  -24:26:14.0   5.2\n",
      "25  Oph_16  16:27:02.30  -24:37:27.0   5.2\n",
      "26  Oph_15  16:26:58.40  -24:45:31.0   5.2\n",
      "27  Oph_14  16:26:48.40  -24:28:38.0   5.2\n",
      "28  Oph_13  16:26:45.00  -24:23:07.0   5.2\n",
      "29  Oph_12  16:26:44.10  -24:34:48.0   5.2\n",
      "30  Oph_11  16:26:40.40  -24:27:14.0   5.2\n",
      "31  Oph_10  16:26:25.60  -24:24:28.0   5.2\n",
      "32  Oph_09  16:26:25.40  -24:23:01.0   5.2\n",
      "33  Oph_08  16:26:24.00  -24:16:13.0   5.2\n",
      "34  Oph_07  16:26:23.60  -24:43:14.0   5.2\n",
      "35  Oph_06  16:26:21.30  -24:23:04.0   5.2\n",
      "36  Oph_05  16:26:18.80  -24:28:19.0   5.2\n",
      "37  Oph_04  16:26:14.60  -24:25:07.0   5.2\n",
      "38  Oph_03  16:26:10.30  -24:20:54.0   5.2\n",
      "39  Oph_02  16:25:56.10  -24:20:48.0   5.2\n",
      "40  Oph_01  16:25:38.10  -24:22:36.0   5.2\n"
     ]
    }
   ],
   "source": [
    "with open('outputs/'+output_name, \"w\") as text_file:\n",
    "    sample = df_OT\n",
    "    print (sample)\n",
    "    sample = sample.reset_index()\n",
    "    sample = sample.drop(columns=['index'])\n",
    "    for i in range(len(sample)):\n",
    "        print(\"%s, %s, %s, 0.0, 0.0, %.2f, lsrk, RADIO, 0.24, 10, 0, 0, 3, 0,0\"%(sample.loc[i,'name'],\\\n",
    "                                                                                sample.loc[i,'ra_sex'],\\\n",
    "                                                                                sample.loc[i,'dec_sex'],\\\n",
    "                                                                                sample.loc[i,'vlsr']),\\\n",
    "              file=text_file)"
   ]
  },
  {
   "cell_type": "code",
   "execution_count": null,
   "metadata": {},
   "outputs": [],
   "source": []
  }
 ],
 "metadata": {
  "kernelspec": {
   "display_name": "Python 3",
   "language": "python",
   "name": "python3"
  },
  "language_info": {
   "codemirror_mode": {
    "name": "ipython",
    "version": 3
   },
   "file_extension": ".py",
   "mimetype": "text/x-python",
   "name": "python",
   "nbconvert_exporter": "python",
   "pygments_lexer": "ipython3",
   "version": "3.8.5"
  }
 },
 "nbformat": 4,
 "nbformat_minor": 2
}
