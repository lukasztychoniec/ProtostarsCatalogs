{
 "cells": [
  {
   "cell_type": "code",
   "execution_count": 1,
   "metadata": {},
   "outputs": [],
   "source": [
    "import astropy.io.fits as pf\n",
    "import numpy as np\n",
    "import matplotlib.pyplot as plt\n",
    "import matplotlib.patches as patches\n",
    "from astropy import constants as const\n",
    "from astropy import units as u\n",
    "#import tycholib_jupyter as tj\n",
    "#import imp\n",
    "#import nbimporter\n",
    "import sys, os, glob\n",
    "sys.path.append(os.path.abspath(os.path.join('..', 'Scripts_astro')))\n",
    "#import tycholib_jupyter as tj\n",
    "#imp.reload(tj)\n",
    "import math\n",
    "import json\n",
    "from astropy.io import ascii\n",
    "import matplotlib.gridspec as gridspec # For spacing subplots\n",
    "from astropy.wcs import WCS\n",
    "from astropy.wcs.utils import skycoord_to_pixel\n",
    "from astropy.coordinates import SkyCoord\n",
    "import math\n",
    "import time\n",
    "from astropy.visualization import (LogStretch, ImageNormalize, SqrtStretch)\n",
    "from astropy.io import ascii\n",
    "import pandas as pd\n",
    "from astropy.coordinates import Angle\n",
    "from collections import OrderedDict#\n"
   ]
  },
  {
   "cell_type": "code",
   "execution_count": 2,
   "metadata": {},
   "outputs": [],
   "source": [
    "def hasNumbers(inputString):\n",
    "    return any(char.isdigit() for char in inputString)"
   ]
  },
  {
   "cell_type": "code",
   "execution_count": 3,
   "metadata": {},
   "outputs": [],
   "source": [
    "plt.rc('font', family='Palatino',size=25)"
   ]
  },
  {
   "cell_type": "markdown",
   "metadata": {},
   "source": [
    "### Sensitivity to timescales (Lee 2020)"
   ]
  },
  {
   "cell_type": "code",
   "execution_count": 151,
   "metadata": {},
   "outputs": [],
   "source": [
    "oph_tab = np.loadtxt('Oph_Mardones2019_1_B7.txt',unpack=False,dtype='str',delimiter='\\t') \n",
    "output_name= 'Oph_B7_1.txt'"
   ]
  },
  {
   "cell_type": "code",
   "execution_count": 152,
   "metadata": {},
   "outputs": [],
   "source": [
    "col_names = ['name','ra_sex','dec_sex','vlsr']\n",
    "band3 = pd.DataFrame(columns  = col_names)\n",
    "band6 = pd.DataFrame(columns  = col_names)"
   ]
  },
  {
   "cell_type": "code",
   "execution_count": 153,
   "metadata": {},
   "outputs": [],
   "source": [
    "tab = oph_tab\n",
    "for i in range(len(tab)):\n",
    "    \n",
    "    #name\n",
    "    \n",
    "    name = tab[i,1]\n",
    "    name = name.replace(\" \", \"\")\n",
    "    ra_sex = tab[i,4]\n",
    "    ra_sex = ra_sex.replace(\" \", \"\").replace('h',':').replace('m',':').replace('s','')\n",
    "    dec_sex = tab[i,5]\n",
    "    dec_sex = dec_sex.replace(\" \", \"\").replace('d',':').replace('m',':').replace('s','')\n",
    "    vlsr = 5.2\n",
    "\n",
    "    \n",
    "    band3.loc[i] = [name,ra_sex,dec_sex,vlsr]"
   ]
  },
  {
   "cell_type": "code",
   "execution_count": 154,
   "metadata": {
    "scrolled": true
   },
   "outputs": [
    {
     "name": "stdout",
     "output_type": "stream",
     "text": [
      "      name       ra_sex      dec_sex  vlsr\n",
      "0   Oph_41  16:33:55.60  -24:42:05.0   5.2\n",
      "1   Oph_40  16:32:22.60  -24:28:31.0   5.2\n",
      "2   Oph_39  16:32:00.90  -24:56:42.0   5.2\n",
      "3   Oph_38  16:31:52.40  -24:55:36.0   5.2\n",
      "4   Oph_37  16:31:52.00  -24:57:26.0   5.2\n",
      "5   Oph_36  16:31:43.70  -24:55:24.0   5.2\n",
      "6   Oph_35  16:31:36.70  -24:04:19.0   5.2\n",
      "7   Oph_34  16:31:35.60  -24:01:29.0   5.2\n",
      "8   Oph_33  16:28:57.80  -24:40:54.0   5.2\n",
      "9   Oph_32  16:28:21.60  -24:36:23.0   5.2\n",
      "10  Oph_31  16:27:39.80  -24:43:15.0   5.2\n",
      "11  Oph_30  16:27:37.20  -24:42:37.0   5.2\n",
      "12  Oph_29  16:27:30.10  -24:27:43.0   5.2\n",
      "13  Oph_28  16:27:28.40  -24:27:21.0   5.2\n",
      "14  Oph_27  16:27:27.90  -24:39:33.0   5.2\n",
      "15  Oph_26  16:27:26.90  -24:40:50.0   5.2\n",
      "16  Oph_25  16:27:24.50  -24:41:03.0   5.2\n",
      "17  Oph_24  16:27:21.80  -24:27:27.0   5.2\n",
      "18  Oph_23  16:27:21.40  -24:41:43.0   5.2\n",
      "19  Oph_22  16:27:17.50  -24:28:56.0   5.2\n",
      "20  Oph_21  16:27:15.80  -24:38:43.0   5.2\n",
      "21  Oph_20  16:27:09.40  -24:37:18.0   5.2\n",
      "22  Oph_19  16:27:06.70  -24:38:14.0   5.2\n",
      "23  Oph_18  16:27:05.20  -24:36:29.0   5.2\n",
      "24  Oph_17  16:27:02.90  -24:26:14.0   5.2\n",
      "25  Oph_16  16:27:02.30  -24:37:27.0   5.2\n",
      "26  Oph_15  16:26:58.40  -24:45:31.0   5.2\n",
      "27  Oph_14  16:26:48.40  -24:28:38.0   5.2\n",
      "28  Oph_13  16:26:45.00  -24:23:07.0   5.2\n",
      "29  Oph_12  16:26:44.10  -24:34:48.0   5.2\n",
      "30  Oph_11  16:26:40.40  -24:27:14.0   5.2\n",
      "31  Oph_10  16:26:25.60  -24:24:28.0   5.2\n",
      "32  Oph_09  16:26:25.40  -24:23:01.0   5.2\n",
      "33  Oph_08  16:26:24.00  -24:16:13.0   5.2\n",
      "34  Oph_07  16:26:23.60  -24:43:14.0   5.2\n",
      "35  Oph_06  16:26:21.30  -24:23:04.0   5.2\n",
      "36  Oph_05  16:26:18.80  -24:28:19.0   5.2\n",
      "37  Oph_04  16:26:14.60  -24:25:07.0   5.2\n",
      "38  Oph_03  16:26:10.30  -24:20:54.0   5.2\n",
      "39  Oph_02  16:25:56.10  -24:20:48.0   5.2\n",
      "40  Oph_01  16:25:38.10  -24:22:36.0   5.2\n"
     ]
    }
   ],
   "source": [
    "#band3=band3.drop(index=[35,37])\n",
    "with open(output_name, \"w\") as text_file:\n",
    "    sample = band3\n",
    "    print (sample)\n",
    "    sample = sample.reset_index()\n",
    "    sample = sample.drop(columns=['index'])\n",
    "    for i in range(len(sample)):\n",
    "        print(\"%s, %s, %s, 0.0, 0.0, %.2f, lsrk, RADIO, 0.24, 10, 0, 0, 3, 0,0\"%(sample.loc[i,'name'],\\\n",
    "                                                                                sample.loc[i,'ra_sex'],\\\n",
    "                                                                                sample.loc[i,'dec_sex'],\\\n",
    "                                                                                sample.loc[i,'vlsr']),\\\n",
    "              file=text_file)"
   ]
  },
  {
   "cell_type": "markdown",
   "metadata": {},
   "source": [
    "### 1 arcsec sample"
   ]
  },
  {
   "cell_type": "code",
   "execution_count": 34,
   "metadata": {},
   "outputs": [
    {
     "ename": "NameError",
     "evalue": "name 'oph_tab_1as' is not defined",
     "output_type": "error",
     "traceback": [
      "\u001b[0;31m---------------------------------------------------------------------------\u001b[0m",
      "\u001b[0;31mNameError\u001b[0m                                 Traceback (most recent call last)",
      "\u001b[0;32m<ipython-input-34-728d9a2b39bb>\u001b[0m in \u001b[0;36m<module>\u001b[0;34m\u001b[0m\n\u001b[1;32m      1\u001b[0m \u001b[0mcol_names\u001b[0m \u001b[0;34m=\u001b[0m \u001b[0;34m[\u001b[0m\u001b[0;34m'name'\u001b[0m\u001b[0;34m,\u001b[0m\u001b[0;34m'ra_sex'\u001b[0m\u001b[0;34m,\u001b[0m\u001b[0;34m'dec_sex'\u001b[0m\u001b[0;34m,\u001b[0m\u001b[0;34m'vlsr'\u001b[0m\u001b[0;34m]\u001b[0m\u001b[0;34m\u001b[0m\u001b[0;34m\u001b[0m\u001b[0m\n\u001b[1;32m      2\u001b[0m \u001b[0mband3\u001b[0m \u001b[0;34m=\u001b[0m \u001b[0mpd\u001b[0m\u001b[0;34m.\u001b[0m\u001b[0mDataFrame\u001b[0m\u001b[0;34m(\u001b[0m\u001b[0mcolumns\u001b[0m  \u001b[0;34m=\u001b[0m \u001b[0mcol_names\u001b[0m\u001b[0;34m)\u001b[0m\u001b[0;34m\u001b[0m\u001b[0;34m\u001b[0m\u001b[0m\n\u001b[0;32m----> 3\u001b[0;31m \u001b[0mtab\u001b[0m \u001b[0;34m=\u001b[0m \u001b[0moph_tab_1as\u001b[0m\u001b[0;34m\u001b[0m\u001b[0;34m\u001b[0m\u001b[0m\n\u001b[0m\u001b[1;32m      4\u001b[0m \u001b[0;32mfor\u001b[0m \u001b[0mi\u001b[0m \u001b[0;32min\u001b[0m \u001b[0mrange\u001b[0m\u001b[0;34m(\u001b[0m\u001b[0mlen\u001b[0m\u001b[0;34m(\u001b[0m\u001b[0moph_tab_1as\u001b[0m\u001b[0;34m)\u001b[0m\u001b[0;34m)\u001b[0m\u001b[0;34m:\u001b[0m\u001b[0;34m\u001b[0m\u001b[0;34m\u001b[0m\u001b[0m\n\u001b[1;32m      5\u001b[0m \u001b[0;34m\u001b[0m\u001b[0m\n",
      "\u001b[0;31mNameError\u001b[0m: name 'oph_tab_1as' is not defined"
     ]
    }
   ],
   "source": [
    "col_names = ['name','ra_sex','dec_sex','vlsr']\n",
    "band3 = pd.DataFrame(columns  = col_names)\n",
    "tab = oph_tab_1as\n",
    "for i in range(len(oph_tab_1as)):\n",
    "    \n",
    "    #name\n",
    "    \n",
    "    name = tab[i,1]\n",
    "    name = name.replace(\" \", \"\")\n",
    "    ra_sex = tab[i,4]\n",
    "    ra_sex = ra_sex.replace(\" \", \"\").replace('h',':').replace('m',':').replace('s','')\n",
    "    dec_sex = tab[i,5]\n",
    "    dec_sex = dec_sex.replace(\" \", \"\").replace('d',':').replace('m',':').replace('s','')\n",
    "    vlsr = 5.2\n",
    "\n",
    "    \n",
    "    band3.loc[i] = [name,ra_sex,dec_sex,vlsr]\n"
   ]
  },
  {
   "cell_type": "code",
   "execution_count": 35,
   "metadata": {},
   "outputs": [
    {
     "name": "stdout",
     "output_type": "stream",
     "text": [
      "Empty DataFrame\n",
      "Columns: [name, ra_sex, dec_sex, vlsr]\n",
      "Index: []\n"
     ]
    }
   ],
   "source": [
    "with open(\"ot_input_class0_I_band3_1as.txt\", \"w\") as text_file:\n",
    "    sample = band3\n",
    "    print (sample)\n",
    "    sample = sample.reset_index()\n",
    "    sample = sample.drop(columns=['index'])\n",
    "    for i in range(len(sample)):\n",
    "        print(\"%s, %s, %s, 0.0, 0.0, %.2f, lsrk, RADIO, 0.24, 10, 0, 0, 3, 0,0\"%(sample.loc[i,'name'],\\\n",
    "                                                                                sample.loc[i,'ra_sex'],\\\n",
    "                                                                                sample.loc[i,'dec_sex'],\\\n",
    "                                                                                sample.loc[i,'vlsr']),\\\n",
    "              file=text_file)"
   ]
  },
  {
   "cell_type": "markdown",
   "metadata": {},
   "source": [
    "# Spectral index plot"
   ]
  },
  {
   "cell_type": "code",
   "execution_count": 10,
   "metadata": {},
   "outputs": [],
   "source": [
    "plt.rcParams['xtick.major.size'] = 12\n",
    "plt.rcParams['xtick.major.width'] = 1\n",
    "plt.rcParams['xtick.minor.size'] = 7\n",
    "plt.rcParams['xtick.minor.width'] = 1\n",
    "plt.rcParams['ytick.major.size'] = 12\n",
    "plt.rcParams['ytick.major.width'] = 1\n",
    "plt.rcParams['ytick.minor.size'] = 7\n",
    "plt.rcParams['ytick.minor.width'] = 1\n",
    "plt.rcParams['ytick.labelsize'] = 30\n",
    "plt.rcParams['xtick.labelsize'] = 30\n"
   ]
  },
  {
   "cell_type": "code",
   "execution_count": 11,
   "metadata": {},
   "outputs": [],
   "source": [
    "from scipy.optimize import curve_fit\n",
    "def func(x,a,b):\n",
    "    return a+b*x\n",
    "def loglog(x,a,b):\n",
    "    return 10**(b*np.log10(x)+a)"
   ]
  },
  {
   "cell_type": "code",
   "execution_count": 12,
   "metadata": {},
   "outputs": [
    {
     "name": "stdout",
     "output_type": "stream",
     "text": [
      "[ 1.77452054 -1.59374322]\n"
     ]
    },
    {
     "data": {
      "image/png": "[encoded data removed]",
      "text/plain": [
       "<Figure size 720x648 with 1 Axes>"
      ]
     },
     "metadata": {
      "needs_background": "light"
     },
     "output_type": "display_data"
    }
   ],
   "source": [
    "fig = plt.figure(figsize=(10,9))\n",
    "ax = fig.add_axes([0.15,0.15,0.82,0.75])\n",
    "\n",
    "\n",
    "wvl = [0.9,1,3,9,55]\n",
    "flux = [70,60,10,2,0.4]\n",
    "\n",
    "ax.plot([1],[40],'.',markersize=40,color='red',markeredgewidth=1,markeredgecolor='black')\n",
    "ax.plot([3],[10],'.',markersize=40,color='red',markeredgewidth=1,markeredgecolor='black')\n",
    "ax.plot([9],[5],'.',markersize=40,color='red',markeredgewidth=1,markeredgecolor='black')\n",
    "ax.plot([55],[0.8],'.',markersize=40,color='red',markeredgewidth=1,markeredgecolor='black')\n",
    "\n",
    "\n",
    "\n",
    "\n",
    "\n",
    "popt,pcov = curve_fit(loglog,wvl,flux)\n",
    "print (popt)\n",
    "xx = np.logspace(-1,4)\n",
    "ax.plot(xx,loglog(xx,popt[0],popt[1]))\n",
    "\n",
    "\n",
    "\n",
    "#ax.plot(xx,loglog(xx,popt[0],-1.2))\n",
    "\n",
    "\n",
    "plt.xlim([1e2,5e-1])\n",
    "plt.ylim([1e-1,1e2])\n",
    "\n",
    "plt.xscale('log')\n",
    "plt.yscale('log')\n",
    "plt.xlabel('$\\lambda$ (mm)')\n",
    "plt.ylabel('$F_\\lambda$ (mJy)')\n",
    "\n",
    "plt.show()\n"
   ]
  },
  {
   "cell_type": "code",
   "execution_count": 13,
   "metadata": {},
   "outputs": [],
   "source": [
    "plt.rcParams['xtick.major.size'] = 12\n",
    "plt.rcParams['xtick.major.width'] = 1\n",
    "plt.rcParams['xtick.minor.size'] = 7\n",
    "plt.rcParams['xtick.minor.width'] = 1\n",
    "plt.rcParams['ytick.major.size'] = 12\n",
    "plt.rcParams['ytick.major.width'] = 1\n",
    "plt.rcParams['ytick.minor.size'] = 7\n",
    "plt.rcParams['ytick.minor.width'] = 1\n",
    "plt.rcParams['ytick.labelsize'] = 30\n",
    "plt.rcParams['xtick.labelsize'] = 30\n"
   ]
  },
  {
   "cell_type": "code",
   "execution_count": 14,
   "metadata": {},
   "outputs": [],
   "source": [
    "plt.rcParams['axes.linewidth'] =2 #set the value globally\n",
    "plt.rcParams['xtick.major.size']= 10\n",
    "plt.rcParams['xtick.major.width']= 2\n",
    "plt.rcParams['xtick.minor.size']= 6\n",
    "plt.rcParams['xtick.minor.width']= 2\n",
    "plt.rcParams['ytick.major.size']= 10\n",
    "plt.rcParams['ytick.major.width']= 2\n",
    "plt.rcParams['ytick.minor.size']= 6\n",
    "plt.rcParams['ytick.minor.width']= 2"
   ]
  },
  {
   "cell_type": "markdown",
   "metadata": {
    "collapsed": true
   },
   "source": [
    "### Perseus"
   ]
  },
  {
   "cell_type": "code",
   "execution_count": 15,
   "metadata": {},
   "outputs": [
    {
     "ename": "NameError",
     "evalue": "name 'df_Per' is not defined",
     "output_type": "error",
     "traceback": [
      "\u001b[0;31m---------------------------------------------------------------------------\u001b[0m",
      "\u001b[0;31mNameError\u001b[0m                                 Traceback (most recent call last)",
      "\u001b[0;32m<ipython-input-15-9d325d72effd>\u001b[0m in \u001b[0;36m<module>\u001b[0;34m\u001b[0m\n\u001b[1;32m      2\u001b[0m \u001b[0max\u001b[0m \u001b[0;34m=\u001b[0m \u001b[0mfig\u001b[0m\u001b[0;34m.\u001b[0m\u001b[0madd_axes\u001b[0m\u001b[0;34m(\u001b[0m\u001b[0;34m[\u001b[0m\u001b[0;36m0.15\u001b[0m\u001b[0;34m,\u001b[0m\u001b[0;36m0.15\u001b[0m\u001b[0;34m,\u001b[0m\u001b[0;36m0.82\u001b[0m\u001b[0;34m,\u001b[0m\u001b[0;36m0.75\u001b[0m\u001b[0;34m]\u001b[0m\u001b[0;34m)\u001b[0m\u001b[0;34m\u001b[0m\u001b[0;34m\u001b[0m\u001b[0m\n\u001b[1;32m      3\u001b[0m \u001b[0;34m\u001b[0m\u001b[0m\n\u001b[0;32m----> 4\u001b[0;31m \u001b[0msample\u001b[0m \u001b[0;34m=\u001b[0m \u001b[0mdf_Per\u001b[0m\u001b[0;34m.\u001b[0m\u001b[0mloc\u001b[0m\u001b[0;34m[\u001b[0m\u001b[0;34m(\u001b[0m\u001b[0mdf_Per\u001b[0m\u001b[0;34m[\u001b[0m\u001b[0;34m'class_label'\u001b[0m\u001b[0;34m]\u001b[0m\u001b[0;34m==\u001b[0m\u001b[0;34m'Class 0'\u001b[0m\u001b[0;34m)\u001b[0m \u001b[0;34m&\u001b[0m \u001b[0;34m(\u001b[0m\u001b[0mdf_Per\u001b[0m\u001b[0;34m[\u001b[0m\u001b[0;34m'ehv'\u001b[0m\u001b[0;34m]\u001b[0m\u001b[0;34m==\u001b[0m\u001b[0;34m'y'\u001b[0m\u001b[0;34m)\u001b[0m\u001b[0;34m]\u001b[0m\u001b[0;34m\u001b[0m\u001b[0;34m\u001b[0m\u001b[0m\n\u001b[0m\u001b[1;32m      5\u001b[0m \u001b[0max\u001b[0m\u001b[0;34m.\u001b[0m\u001b[0mplot\u001b[0m\u001b[0;34m(\u001b[0m\u001b[0msample\u001b[0m\u001b[0;34m[\u001b[0m\u001b[0;34m'tbol'\u001b[0m\u001b[0;34m]\u001b[0m\u001b[0;34m,\u001b[0m\u001b[0msample\u001b[0m\u001b[0;34m[\u001b[0m\u001b[0;34m'lbol'\u001b[0m\u001b[0;34m]\u001b[0m\u001b[0;34m,\u001b[0m\u001b[0;34m'*'\u001b[0m\u001b[0;34m,\u001b[0m\u001b[0mmarkersize\u001b[0m\u001b[0;34m=\u001b[0m\u001b[0;36m20\u001b[0m\u001b[0;34m,\u001b[0m\u001b[0mcolor\u001b[0m\u001b[0;34m=\u001b[0m\u001b[0;34m'#4b45e0'\u001b[0m\u001b[0;34m,\u001b[0m\u001b[0mlabel\u001b[0m\u001b[0;34m=\u001b[0m\u001b[0;34m'jet'\u001b[0m\u001b[0;34m)\u001b[0m\u001b[0;34m\u001b[0m\u001b[0;34m\u001b[0m\u001b[0m\n\u001b[1;32m      6\u001b[0m \u001b[0;34m\u001b[0m\u001b[0m\n",
      "\u001b[0;31mNameError\u001b[0m: name 'df_Per' is not defined"
     ]
    },
    {
     "data": {
      "image/png": "[encoded data removed]",
      "text/plain": [
       "<Figure size 720x648 with 1 Axes>"
      ]
     },
     "metadata": {
      "needs_background": "light"
     },
     "output_type": "display_data"
    }
   ],
   "source": [
    "fig = plt.figure(figsize=(10,9))\n",
    "ax = fig.add_axes([0.15,0.15,0.82,0.75])\n",
    "\n",
    "sample = df_Per.loc[(df_Per['class_label']=='Class 0') & (df_Per['ehv']=='y')]\n",
    "ax.plot(sample['tbol'],sample['lbol'],'*',markersize=20,color='#4b45e0',label='jet')\n",
    "\n",
    "print (len(sample))\n",
    "\n",
    "sample = df_Per.loc[(df_Per['class_label']=='Class 0') & (df_Per['ehv']=='?')]\n",
    "ax.plot(sample['tbol'],sample['lbol'],'+',markersize=15,color='#87b5eb',alpha=1.0,label='not verified')\n",
    "\n",
    "print (len(sample))\n",
    "\n",
    "\n",
    "#sample = df_Per.loc[(df_Per['class_label']=='Class I') & (df_Per['coms']=='y')]\n",
    "#ax.plot(sample['tbol'],sample['lbol'],'*',color='r',markersize=24)\n",
    "\n",
    "#sample = df_Per.loc[(df_Per['class_label']=='Class I') & (df_Per['coms']=='n')]\n",
    "\n",
    "#ax.plot(sample['tbol'],sample['lbol'],'.',color='r',markersize=12)\n",
    "\n",
    "\n",
    "\n",
    "ax.set_yscale('log')\n",
    "ax.set_xscale('log')\n",
    "ax.set_xlabel ('T$_{\\\\rm bol}$ (K)')\n",
    "ax.set_ylabel ('L$_{\\\\rm bol}$ (L$_{\\\\odot}$)')\n",
    "plt.title ('Perseus Class 0')\n",
    "plt.legend()\n",
    "plt.savefig('Perseus_sample.png')\n",
    "plt.show()\n",
    "\n",
    "plt.show()"
   ]
  },
  {
   "cell_type": "code",
   "execution_count": null,
   "metadata": {},
   "outputs": [],
   "source": []
  }
 ],
 "metadata": {
  "kernelspec": {
   "display_name": "Python 3",
   "language": "python",
   "name": "python3"
  },
  "language_info": {
   "codemirror_mode": {
    "name": "ipython",
    "version": 3
   },
   "file_extension": ".py",
   "mimetype": "text/x-python",
   "name": "python",
   "nbconvert_exporter": "python",
   "pygments_lexer": "ipython3",
   "version": "3.8.5"
  }
 },
 "nbformat": 4,
 "nbformat_minor": 2
}
